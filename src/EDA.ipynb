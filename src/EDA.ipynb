{
 "cells": [
  {
   "cell_type": "markdown",
   "metadata": {},
   "source": [
    "<div align=\"center\">\n",
    "\n",
    "<h2 style=\"\"> \n",
    "  CP321A - Data Visualization <br>\n",
    "  Course Project\n",
    "</h2>\n",
    "\n",
    "<h3> <u> How do education levels affect wages in Canada? </u> </h3>\n",
    "\n",
    "</div>"
   ]
  },
  {
   "cell_type": "markdown",
   "metadata": {},
   "source": [
    "### Introduction\n",
    "\n",
    "This project investigates the relationship between education attainment and wage levels across different age groups and sexes. The purpose is to determine whether higher education correlates with increased earnings among the various demographic groups. By employing detailed data visualization techniques, this study will illustrate the potential economic impacts of educational qualifcations and provide a comprehensive understanding of how education may influence income disparties in diverse populations."
   ]
  },
  {
   "cell_type": "code",
   "execution_count": 36,
   "metadata": {},
   "outputs": [],
   "source": [
    "import pandas as pd"
   ]
  },
  {
   "cell_type": "code",
   "execution_count": 37,
   "metadata": {},
   "outputs": [
    {
     "data": {
      "text/html": [
       "<div>\n",
       "<style scoped>\n",
       "    .dataframe tbody tr th:only-of-type {\n",
       "        vertical-align: middle;\n",
       "    }\n",
       "\n",
       "    .dataframe tbody tr th {\n",
       "        vertical-align: top;\n",
       "    }\n",
       "\n",
       "    .dataframe thead th {\n",
       "        text-align: right;\n",
       "    }\n",
       "</style>\n",
       "<table border=\"1\" class=\"dataframe\">\n",
       "  <thead>\n",
       "    <tr style=\"text-align: right;\">\n",
       "      <th></th>\n",
       "      <th>_id</th>\n",
       "      <th>YEAR</th>\n",
       "      <th>Geography</th>\n",
       "      <th>Type of work</th>\n",
       "      <th>Wages</th>\n",
       "      <th>Education level</th>\n",
       "      <th>Age group</th>\n",
       "      <th>Both Sexes</th>\n",
       "      <th>Male</th>\n",
       "      <th>Female</th>\n",
       "    </tr>\n",
       "  </thead>\n",
       "  <tbody>\n",
       "    <tr>\n",
       "      <th>0</th>\n",
       "      <td>1</td>\n",
       "      <td>1997</td>\n",
       "      <td>Canada</td>\n",
       "      <td>Both full- and part-time</td>\n",
       "      <td>Total employees</td>\n",
       "      <td>Total, all education levels</td>\n",
       "      <td>15 years and over</td>\n",
       "      <td>11364.5</td>\n",
       "      <td>5954.5</td>\n",
       "      <td>5410.0</td>\n",
       "    </tr>\n",
       "    <tr>\n",
       "      <th>1</th>\n",
       "      <td>2</td>\n",
       "      <td>1997</td>\n",
       "      <td>Canada</td>\n",
       "      <td>Both full- and part-time</td>\n",
       "      <td>Total employees</td>\n",
       "      <td>Total, all education levels</td>\n",
       "      <td>15-24 years</td>\n",
       "      <td>1877.8</td>\n",
       "      <td>983.1</td>\n",
       "      <td>894.7</td>\n",
       "    </tr>\n",
       "    <tr>\n",
       "      <th>2</th>\n",
       "      <td>3</td>\n",
       "      <td>1997</td>\n",
       "      <td>Canada</td>\n",
       "      <td>Both full- and part-time</td>\n",
       "      <td>Total employees</td>\n",
       "      <td>Total, all education levels</td>\n",
       "      <td>20-34 years</td>\n",
       "      <td>4274.9</td>\n",
       "      <td>2244.3</td>\n",
       "      <td>2030.6</td>\n",
       "    </tr>\n",
       "    <tr>\n",
       "      <th>3</th>\n",
       "      <td>4</td>\n",
       "      <td>1997</td>\n",
       "      <td>Canada</td>\n",
       "      <td>Both full- and part-time</td>\n",
       "      <td>Total employees</td>\n",
       "      <td>Total, all education levels</td>\n",
       "      <td>25 years and over</td>\n",
       "      <td>9486.7</td>\n",
       "      <td>4971.4</td>\n",
       "      <td>4515.3</td>\n",
       "    </tr>\n",
       "    <tr>\n",
       "      <th>4</th>\n",
       "      <td>5</td>\n",
       "      <td>1997</td>\n",
       "      <td>Canada</td>\n",
       "      <td>Both full- and part-time</td>\n",
       "      <td>Total employees</td>\n",
       "      <td>Total, all education levels</td>\n",
       "      <td>25-34 years</td>\n",
       "      <td>3047.9</td>\n",
       "      <td>1602.2</td>\n",
       "      <td>1445.7</td>\n",
       "    </tr>\n",
       "  </tbody>\n",
       "</table>\n",
       "</div>"
      ],
      "text/plain": [
       "   _id  YEAR Geography              Type of work            Wages  \\\n",
       "0    1  1997    Canada  Both full- and part-time  Total employees   \n",
       "1    2  1997    Canada  Both full- and part-time  Total employees   \n",
       "2    3  1997    Canada  Both full- and part-time  Total employees   \n",
       "3    4  1997    Canada  Both full- and part-time  Total employees   \n",
       "4    5  1997    Canada  Both full- and part-time  Total employees   \n",
       "\n",
       "               Education level           Age group  Both Sexes    Male  Female  \n",
       "0  Total, all education levels  15 years and over      11364.5  5954.5  5410.0  \n",
       "1  Total, all education levels         15-24 years      1877.8   983.1   894.7  \n",
       "2  Total, all education levels         20-34 years      4274.9  2244.3  2030.6  \n",
       "3  Total, all education levels   25 years and over      9486.7  4971.4  4515.3  \n",
       "4  Total, all education levels         25-34 years      3047.9  1602.2  1445.7  "
      ]
     },
     "execution_count": 37,
     "metadata": {},
     "output_type": "execute_result"
    }
   ],
   "source": [
    "df = pd.read_csv('./data/wages_by_education.csv')\n",
    "df.head()"
   ]
  },
  {
   "cell_type": "markdown",
   "metadata": {},
   "source": [
    "### Data set description\n",
    "\n",
    "> The data set was retrived from the Ontario Data Catalogue, found [here](https://data.ontario.ca/dataset/wages-by-education-level/resource/7b325fa1-e9d6-4329-a501-08cdc22a79df)\n",
    "\n",
    "This data set provides a comprehensive overview of wages segmented by various demographic and socioeconomic categories across different provinces in Canada and time periods. Each entry in the data set is detailed with the following columns:\n",
    "\n",
    "<ul>\n",
    "    <li> Year </li>\n",
    "    <li> Geography </li>\n",
    "    <li> Type of work </li>\n",
    "    <li> Wages </li>\n",
    "    <li> Education level </li>  \n",
    "    <li> Age group </li>\n",
    "    <li> Both sexes </li>\n",
    "    <li> Male </li>\n",
    "    <li> Female </li>\n",
    "</ul>"
   ]
  }
 ],
 "metadata": {
  "kernelspec": {
   "display_name": "Python 3",
   "language": "python",
   "name": "python3"
  },
  "language_info": {
   "codemirror_mode": {
    "name": "ipython",
    "version": 3
   },
   "file_extension": ".py",
   "mimetype": "text/x-python",
   "name": "python",
   "nbconvert_exporter": "python",
   "pygments_lexer": "ipython3",
   "version": "3.11.7"
  }
 },
 "nbformat": 4,
 "nbformat_minor": 2
}
